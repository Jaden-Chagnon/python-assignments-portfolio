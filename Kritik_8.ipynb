{
 "cells": [
  {
   "cell_type": "code",
   "execution_count": 1,
   "id": "3a98277e-a4a6-43fd-8dc4-b6d027515144",
   "metadata": {},
   "outputs": [
    {
     "name": "stdout",
     "output_type": "stream",
     "text": [
      "Final x: 3.7647297105124915\n",
      "Final y: 8.258544765124724e-05\n"
     ]
    }
   ],
   "source": [
    "import numpy as np\n",
    "\n",
    "def grad_f(x, y):\n",
    "    grad_x = 2 * x * y**2\n",
    "    grad_y = 2 * y * x**2\n",
    "    return grad_x, grad_y\n",
    "\n",
    "def gradient_descent(x0, y0, grad_f, alpha, num_iterations):\n",
    "    x, y = [x0], [y0]  # Initialize lists to store x and y values\n",
    "    for i in range(num_iterations):\n",
    "        grad_x, grad_y = grad_f(x[-1], y[-1])\n",
    "        # Update x and y using gradient descent update rule\n",
    "        x_new = x[-1] - alpha * grad_x\n",
    "        y_new = y[-1] - alpha * grad_y\n",
    "        # Append the new x and y values to the lists\n",
    "        x.append(x_new)\n",
    "        y.append(y_new)\n",
    "    return x, y\n",
    "\n",
    "x0 = 5\n",
    "y0 = 3\n",
    "alpha = 0.01\n",
    "num_iterations = 30\n",
    "\n",
    "x, y = gradient_descent(x0, y0, grad_f, alpha, num_iterations)\n",
    "\n",
    "# Print the final values of x and y\n",
    "print(\"Final x:\", x[-1])\n",
    "print(\"Final y:\", y[-1])\n"
   ]
  }
 ],
 "metadata": {
  "kernelspec": {
   "display_name": "Python 3 (ipykernel)",
   "language": "python",
   "name": "python3"
  },
  "language_info": {
   "codemirror_mode": {
    "name": "ipython",
    "version": 3
   },
   "file_extension": ".py",
   "mimetype": "text/x-python",
   "name": "python",
   "nbconvert_exporter": "python",
   "pygments_lexer": "ipython3",
   "version": "3.11.7"
  }
 },
 "nbformat": 4,
 "nbformat_minor": 5
}
