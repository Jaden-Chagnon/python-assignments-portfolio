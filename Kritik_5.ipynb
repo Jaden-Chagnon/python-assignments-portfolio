{
 "cells": [
  {
   "cell_type": "code",
   "execution_count": 1,
   "id": "b614a3c5-ebe7-493f-b404-a82b4181559e",
   "metadata": {},
   "outputs": [
    {
     "name": "stdout",
     "output_type": "stream",
     "text": [
      "Invalid seed point. Please enter a point inside the triangle.\n"
     ]
    },
    {
     "name": "stdin",
     "output_type": "stream",
     "text": [
      "Enter the number of steps:  4\n"
     ]
    },
    {
     "name": "stdout",
     "output_type": "stream",
     "text": [
      "Number of steps set to 4.\n"
     ]
    },
    {
     "data": {
      "image/png": "[encoded data removed]",
      "text/plain": [
       "<Figure size 640x480 with 1 Axes>"
      ]
     },
     "metadata": {},
     "output_type": "display_data"
    }
   ],
   "source": [
    "import matplotlib.pyplot as plt\n",
    "import random\n",
    "\n",
    "# Vertices of an equilateral triangle\n",
    "vertices = [(0, 0), (1, 0), (0.5, 0.866)]\n",
    "\n",
    "# A function to check whether point (x, y) lies inside the triangle\n",
    "def isInside(x1, y1, x2, y2, x3, y3, x, y):\n",
    "    def area(x1, y1, x2, y2, x3, y3):\n",
    "        return abs(x1 * (y2 - y3) + x2 * (y3 - y1) + x3 * (y1 - y2)) / 2\n",
    "    \n",
    "    A = area(x1, y1, x2, y2, x3, y3)\n",
    "    A1 = area(x, y, x2, y2, x3, y3)\n",
    "    A2 = area(x1, y1, x, y, x3, y3)\n",
    "    A3 = area(x1, y1, x2, y2, x, y)\n",
    "    \n",
    "    return A == A1 + A2 + A3\n",
    "\n",
    "# Initialize a random seed point within the triangle\n",
    "seed_x = random.uniform(0, 1)\n",
    "seed_y = random.uniform(0, 0.866)\n",
    "\n",
    "# Check if the seed point is inside the triangle\n",
    "if isInside(0, 0, 1, 0, 0.5, 0.866, seed_x, seed_y):\n",
    "    print(\"Valid seed point entered.\")\n",
    "else:\n",
    "    print(\"Invalid seed point. Please enter a point inside the triangle.\")\n",
    "    exit()\n",
    "\n",
    "# Initialize a list to store points, starting with the seed point\n",
    "points = [(seed_x, seed_y)]\n",
    "\n",
    "# Prompt the user for the number of steps\n",
    "while True:\n",
    "    try:\n",
    "        num_steps = int(input(\"Enter the number of steps: \"))\n",
    "        if num_steps > 0:\n",
    "            print(f\"Number of steps set to {num_steps}.\")\n",
    "            break\n",
    "        else:\n",
    "            print(\"Please enter a positive integer.\")\n",
    "    except ValueError:\n",
    "        print(\"Invalid input. Please enter a positive integer.\")\n",
    "\n",
    "# Perform the Chaos Game algorithm\n",
    "for i in range(num_steps):\n",
    "    # Choose a random vertex from the list of vertices\n",
    "    next_vertex = random.choice(vertices)\n",
    "    # Calculate the midpoint between the last point and the chosen vertex\n",
    "    next_point = ((points[-1][0] + next_vertex[0]) / 2, (points[-1][1] + next_vertex[1]) / 2)\n",
    "    # Add the new point to the list of points\n",
    "    points.append(next_point)\n",
    "\n",
    "# Plot the solution set\n",
    "plt.scatter(*zip(*points), s=1)\n",
    "plt.title(\"Chaos Game\")\n",
    "plt.xlabel(\"X\")\n",
    "plt.ylabel(\"Y\")\n",
    "plt.show()\n"
   ]
  }
 ],
 "metadata": {
  "kernelspec": {
   "display_name": "Python 3 (ipykernel)",
   "language": "python",
   "name": "python3"
  },
  "language_info": {
   "codemirror_mode": {
    "name": "ipython",
    "version": 3
   },
   "file_extension": ".py",
   "mimetype": "text/x-python",
   "name": "python",
   "nbconvert_exporter": "python",
   "pygments_lexer": "ipython3",
   "version": "3.11.7"
  }
 },
 "nbformat": 4,
 "nbformat_minor": 5
}
